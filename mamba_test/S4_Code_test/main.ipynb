{
 "cells": [
  {
   "cell_type": "markdown",
   "id": "ebaeb35a",
   "metadata": {},
   "source": [
    "##### 1.定义连续SSM与离散化后的SSM的参数"
   ]
  },
  {
   "cell_type": "code",
   "execution_count": 1,
   "id": "8f5aeca5",
   "metadata": {},
   "outputs": [],
   "source": [
    "import numpy as np\n",
    "np.random.seed(1)\n",
    "\n",
    "#Continuous SSM\n",
    "def Random_SSM(N):\n",
    "    #shape: A[N,N], B[N,1], C[1,N]\n",
    "    A = np.random.rand(N,N)\n",
    "    B = np.random.rand(N,1)\n",
    "    C = np.random.rand(1,N)\n",
    "    return A, B, C\n",
    "\n",
    "#Discrete SSM\n",
    "def discretize(A, B, C, step):\n",
    "    #A_bar = (I - step/2 * A)^(-1) * (I + step/2 * A)\n",
    "    #B_bar = (I - step/2 * A)^(-1) * B * step\n",
    "\n",
    "    I = np.eye(A.shape[0])\n",
    "    BL = np.linalg.inv(I - (step / 2.0) * A)\n",
    "    Ab = BL @ (I + (step / 2.0) * A)\n",
    "    Bb = (BL * step) @ B\n",
    "    return Ab, Bb, C"
   ]
  },
  {
   "cell_type": "markdown",
   "id": "1a03895c",
   "metadata": {},
   "source": [
    "##### 2.SSM RNN Representation"
   ]
  },
  {
   "cell_type": "code",
   "execution_count": 2,
   "id": "05626f03",
   "metadata": {},
   "outputs": [],
   "source": [
    "def scan_SSM(Ab, Bb, Cb, u, x0):\n",
    "    # x = A_bar * x + B_bar * u\n",
    "    # Y = C_bar * x\n",
    "\n",
    "    x0 = Ab @ x0 + Bb * u\n",
    "    y = Cb @ x0\n",
    "    return x0, y\n",
    "\n",
    "#Demo: Run SSM\n",
    "def run_SSM (A, B, C, u):\n",
    "    L = u.shape[0]\n",
    "    N = A.shape[0]\n",
    "    Ab, Bb, Cb = discretize(A, B, C, step=1.0 / L)\n",
    "    x0 = np.zeros((N,1))\n",
    "\n",
    "    #Run Recurrence\n",
    "    for i in range(L):\n",
    "        x0, y = scan_SSM(Ab, Bb, Cb, u[i], x0)\n",
    "    return y"
   ]
  },
  {
   "cell_type": "markdown",
   "id": "d0d460aa",
   "metadata": {},
   "source": [
    "##### 3.utils"
   ]
  },
  {
   "cell_type": "code",
   "execution_count": 3,
   "id": "fa7f4d86",
   "metadata": {},
   "outputs": [],
   "source": [
    "# Mat Power\n",
    "def matmul_n_times(A, n_times):\n",
    "    raw_data = A\n",
    "    if n_times > 0:\n",
    "        for i in range(n_times - 1):\n",
    "            A = np.matmul(A, raw_data)\n",
    "    elif n_times == 0:\n",
    "        A = np.eye(A.shape[0])\n",
    "    return A\n",
    "\n",
    "# Get Conv Kernel\n",
    "def K_conv(Ab, Bb, Cb, L):\n",
    "    # K = [C_bar * A_bar ^ i * B_bar for i in range(L)]\n",
    "    return np.array([(Cb @ matmul_n_times(Ab, i) @ Bb) for i in range(L)]).squeeze()\n",
    "\n",
    "#Convolution\n",
    "def causal_convolution(u, K, nofft = False):\n",
    "    if nofft: #不使用FFT\n",
    "        return K[::-1] @ np.transpose(u)\n",
    "    else: #使用FFT\n",
    "        assert K.shape[0] == u.shape[0]\n",
    "        ud = np.fft.rfft(np.pad(u, (0, K.shape[0])))\n",
    "        Kd = np.fft.rfft(np.pad(K, (0, u.shape[0])))\n",
    "        out = ud * Kd\n",
    "        return np.fft.irfft(out)[u.shape[0] - 1]"
   ]
  },
  {
   "cell_type": "code",
   "execution_count": 4,
   "id": "ed9132fe",
   "metadata": {},
   "outputs": [
    {
     "data": {
      "text/plain": [
       "array([0.13734084, 0.16658424, 0.20268662, 0.24721982])"
      ]
     },
     "execution_count": 4,
     "metadata": {},
     "output_type": "execute_result"
    }
   ],
   "source": [
    "# Demo in this stage\n",
    "L = 4\n",
    "step = 1.0 / L\n",
    "A, B, C = Random_SSM(3)\n",
    "Ab, Bb,Cb = discretize(A, B, C, step)\n",
    "Origin_Kernel = K_conv(Ab, Bb, Cb, L)\n",
    "Origin_Kernel"
   ]
  },
  {
   "cell_type": "code",
   "execution_count": 5,
   "id": "9131769c",
   "metadata": {},
   "outputs": [
    {
     "name": "stdout",
     "output_type": "stream",
     "text": [
      "\n",
      "RNN result is : -2.9878612423736817\n",
      "CNN(w\\o FFT) result is :  -2.987861242373681\n",
      "CNN(w\\ FFT) result is :  -2.9878612423736812\n"
     ]
    },
    {
     "data": {
      "text/plain": [
       "True"
      ]
     },
     "execution_count": 5,
     "metadata": {},
     "output_type": "execute_result"
    }
   ],
   "source": [
    "def test_cnn_is_rnn(N = 3, L = 5, step = 1.0/5):\n",
    "\n",
    "    ssm = Random_SSM(N)\n",
    "    u = np.array([-1, -2, -3, -4, -5])\n",
    "\n",
    "    # RNN results\n",
    "    rec = run_SSM(*ssm, u)\n",
    "\n",
    "    # CNN results\n",
    "    ssmb = discretize(*ssm, step=step)\n",
    "    # Get Conv Kernel K\n",
    "    K = K_conv(*ssmb, L)\n",
    "    # Calculate K * u\n",
    "    conv = causal_convolution(u, K, True)\n",
    "    conv2 = causal_convolution(u, K, False)\n",
    "\n",
    "    #Check results\n",
    "    print()\n",
    "    print(\"RNN result is :\", rec.ravel()[0])\n",
    "    print(\"CNN(w\\o FFT) result is : \", conv.ravel()[0])\n",
    "    print(\"CNN(w\\ FFT) result is : \", conv2.ravel()[0])\n",
    "\n",
    "    return (np.abs((rec.ravel()[0] - conv2.ravel()[0])) < 1e6)\n",
    "test_cnn_is_rnn()\n",
    "    \n",
    "    "
   ]
  },
  {
   "cell_type": "code",
   "execution_count": 6,
   "id": "f08f45ea",
   "metadata": {},
   "outputs": [],
   "source": [
    "# Define HiPPO Matrix\n",
    "def make_HiPPO(N):\n",
    "    P = np.sqrt(1 + 2 * np.arange(N))\n",
    "    A = P[:, np.newaxis] * P[np.newaxis, :]\n",
    "    A = np.tril(A) - np.diag(np.arange(N))\n",
    "    return -A"
   ]
  },
  {
   "cell_type": "code",
   "execution_count": 20,
   "id": "903a2aaa",
   "metadata": {},
   "outputs": [],
   "source": [
    "# function K*z naive method\n",
    "def K_gen_simple(Ab, Bb, Cb, L):\n",
    "    K = K_conv(Ab, Bb, Cb, L)\n",
    "    \n",
    "    def gen(z):\n",
    "        return np.sum(K * (z ** np.arange(L)))\n",
    "    \n",
    "    return gen\n",
    "\n",
    "#function K*z (generation function method)\n",
    "def K_gen_inversr(Ab, Bb, Cb, L):\n",
    "    I = np.eye(Ab.shape[0])\n",
    "    Ab_L = matmul_n_times(Ab, L)\n",
    "    #C_~ = C_bar * (I - A_bar^L)\n",
    "    Ct = Cb @ (I - Ab_L)\n",
    "    return lambda z:(Ct @ np.linalg.inv(I - Ab * z) @ Bb)\n",
    "\n",
    "def conv_from_gen(gen, L):\n",
    "    #创建长度为L的单位根\n",
    "    Omega_L = np.exp((-2j * np.pi) * (np.arange(L) / L))\n",
    "\n",
    "    #在单位根上计算生成函数的值 M^* * Y = X\n",
    "    atRoots = np.vectorize(gen)(Omega_L)\n",
    "\n",
    "    #计算逆FFT 并求系数\n",
    "    out = np.fft.ifft(atRoots, L)\n",
    "    #返回实部\n",
    "    return out.real\n",
    "\n",
    "def test_gen_inverse(L = 16, N = 4):\n",
    "    ssm = Random_SSM(N)\n",
    "    ssm = discretize(*ssm, 1.0/L)\n",
    "    Kernel = K_conv(*ssm, L = L)\n",
    "\n",
    "    Kernel_new = conv_from_gen(K_gen_inversr(*ssm, L = L), L)\n",
    "    return np.allclose(Kernel, Kernel_new, atol=1e-3)\n"
   ]
  },
  {
   "cell_type": "code",
   "execution_count": 21,
   "id": "bb6ccd40",
   "metadata": {},
   "outputs": [
    {
     "data": {
      "text/plain": [
       "True"
      ]
     },
     "execution_count": 21,
     "metadata": {},
     "output_type": "execute_result"
    }
   ],
   "source": [
    "test_gen_inverse()"
   ]
  },
  {
   "cell_type": "code",
   "execution_count": 22,
   "id": "50ffdac5",
   "metadata": {},
   "outputs": [],
   "source": [
    "def make_NPLR_HiPPO(N):\n",
    "    # Make -HiPPO\n",
    "    nhippo = make_HiPPO(N)\n",
    "\n",
    "    P = np.sqrt(np.arange(N) + 0.5)\n",
    "\n",
    "    B = np.sqrt(2 * np.arange(N) + 1.0)\n",
    "\n",
    "    return nhippo, P, B"
   ]
  },
  {
   "cell_type": "code",
   "execution_count": 23,
   "id": "e2535162",
   "metadata": {},
   "outputs": [
    {
     "data": {
      "text/plain": [
       "(array([[-1.        , -0.        , -0.        ],\n",
       "        [-1.73205081, -2.        , -0.        ],\n",
       "        [-2.23606798, -3.87298335, -3.        ]]),\n",
       " array([0.70710678, 1.22474487, 1.58113883]),\n",
       " array([1.        , 1.73205081, 2.23606798]))"
      ]
     },
     "execution_count": 23,
     "metadata": {},
     "output_type": "execute_result"
    }
   ],
   "source": [
    "make_NPLR_HiPPO(3)"
   ]
  },
  {
   "cell_type": "code",
   "execution_count": 24,
   "id": "d69073d5",
   "metadata": {},
   "outputs": [],
   "source": [
    "def make_DPLR_HiPPO(N):\n",
    "    A, P, B = make_NPLR_HiPPO(N)\n",
    "\n",
    "    S = A + P[:, np.newaxis] * P[np.newaxis, :]\n",
    "\n",
    "    # Check skew symmetry\n",
    "    S_diag = np.diagonal(S)\n",
    "    Lambda_real = np.mean(S_diag) * np.ones_like(S_diag)\n",
    "    Eye_Lambda_real = np.diag(Lambda_real)\n",
    "\n",
    "    print(\"S w/out diag is a skew_symmetry matrix: {}\".format(np.allclose((S-Eye_Lambda_real),(-1)*(S - Eye_Lambda_real))))\n",
    "\n",
    "    # Diagonalize S to V / Lambda V^*\n",
    "    # (1) S = skew + Diag(real)\n",
    "    # (2) eigs for Skew should be 0 or imaginary number\n",
    "    # (3) eigs for Diag(real) should be real number\n",
    "    # (4) eigs for S: real + img; real comes from Diag part, eigs comes from skew part\n",
    "\n",
    "    # eigh: Hermitian Matrix\n",
    "    Lambda_imag, V = np.linalg.eigh(S)\n",
    "    P = V.conj().T @ P\n",
    "    B = V.conj().T @ B\n",
    "    return Lambda_real + 1j * Lambda_imag, P, B, V"
   ]
  },
  {
   "cell_type": "code",
   "execution_count": 25,
   "id": "1adb97cb",
   "metadata": {},
   "outputs": [
    {
     "name": "stdout",
     "output_type": "stream",
     "text": [
      "S w/out diag is a skew_symmetry matrix: False\n"
     ]
    },
    {
     "data": {
      "text/plain": [
       "(array([-0.5-3.17436055j, -0.5+0.21601465j, -0.5+1.4583459j ]),\n",
       " array([ 2.08934509, -0.26782347, -0.25081405]),\n",
       " array([ 2.95478016, -0.37875958, -0.35470464]),\n",
       " array([[ 0.46541345,  0.87669884,  0.12161197],\n",
       "        [ 0.61300759, -0.41839483,  0.67019957],\n",
       "        [ 0.63844501, -0.23737083, -0.73214962]]))"
      ]
     },
     "execution_count": 25,
     "metadata": {},
     "output_type": "execute_result"
    }
   ],
   "source": [
    "make_DPLR_HiPPO(3)"
   ]
  },
  {
   "cell_type": "code",
   "execution_count": null,
   "id": "58fce900",
   "metadata": {},
   "outputs": [],
   "source": []
  }
 ],
 "metadata": {
  "kernelspec": {
   "display_name": "torch",
   "language": "python",
   "name": "python3"
  },
  "language_info": {
   "codemirror_mode": {
    "name": "ipython",
    "version": 3
   },
   "file_extension": ".py",
   "mimetype": "text/x-python",
   "name": "python",
   "nbconvert_exporter": "python",
   "pygments_lexer": "ipython3",
   "version": "3.10.13"
  }
 },
 "nbformat": 4,
 "nbformat_minor": 5
}
