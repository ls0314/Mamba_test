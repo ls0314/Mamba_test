{
 "cells": [
  {
   "cell_type": "markdown",
   "id": "ebaeb35a",
   "metadata": {},
   "source": [
    "##### 1.定义连续SSM与离散化后的SSM的参数"
   ]
  },
  {
   "cell_type": "code",
   "execution_count": 1,
   "id": "8f5aeca5",
   "metadata": {},
   "outputs": [],
   "source": [
    "import numpy as np\n",
    "np.random.seed(1)\n",
    "\n",
    "#Continuous SSM\n",
    "def Random_SSM(N):\n",
    "    #shape: A[N,N], B[N,1], C[1,N]\n",
    "    A = np.random.rand(N,N)\n",
    "    B = np.random.rand(N,1)\n",
    "    C = np.random.rand(1,N)\n",
    "    return A, B, C\n",
    "\n",
    "#Discrete SSM\n",
    "def discretize(A, B, C, step):\n",
    "    #A_bar = (I - step/2 * A)^(-1) * (I + step/2 * A)\n",
    "    #B_bar = (I - step/2 * A)^(-1) * B * step\n",
    "\n",
    "    I = np.eye(A.shape[0])\n",
    "    BL = np.linalg.inv(I - (step / 2.0) * A)\n",
    "    Ab = BL @ (I + (step / 2.0) * A)\n",
    "    Bb = (BL * step) @ B\n",
    "    return Ab, Bb, C"
   ]
  },
  {
   "cell_type": "markdown",
   "id": "1a03895c",
   "metadata": {},
   "source": [
    "##### 2.SSM RNN Representation"
   ]
  },
  {
   "cell_type": "code",
   "execution_count": 2,
   "id": "05626f03",
   "metadata": {},
   "outputs": [],
   "source": [
    "def scan_SSM(Ab, Bb, Cb, u, x0):\n",
    "    # x = A_bar * x + B_bar * u\n",
    "    # Y = C_bar * x\n",
    "\n",
    "    x0 = Ab @ x0 + Bb * u\n",
    "    y = Cb @ x0\n",
    "    return x0, y\n",
    "\n",
    "#Demo: Run SSM\n",
    "def run_SSM (A, B, C, u):\n",
    "    L = u.shape[0]\n",
    "    N = A.shape[0]\n",
    "    Ab, Bb, Cb = discretize(A, B, C, step=1.0 / L)\n",
    "    x0 = np.zeros((N,1))\n",
    "\n",
    "    #Run Recurrence\n",
    "    for i in range(L):\n",
    "        x0, y = scan_SSM(Ab, Bb, Cb, u[i], x0)\n",
    "    return y"
   ]
  },
  {
   "cell_type": "markdown",
   "id": "d0d460aa",
   "metadata": {},
   "source": [
    "##### 3.utils"
   ]
  },
  {
   "cell_type": "code",
   "execution_count": 3,
   "id": "fa7f4d86",
   "metadata": {},
   "outputs": [],
   "source": [
    "# Mat Power\n",
    "def matmul_n_times(A, n_times):\n",
    "    raw_data = A\n",
    "    if n_times > 0:\n",
    "        for i in range(n_times - 1):\n",
    "            A = np.matmul(A, raw_data)\n",
    "    elif n_times == 0:\n",
    "        A = np.eye(A.shape[0])\n",
    "    return A\n",
    "\n",
    "# Get Conv Kernel\n",
    "def K_conv(Ab, Bb, Cb, L):\n",
    "    # K = [C_bar * A_bar ^ i * B_bar for i in range(L)]\n",
    "    return np.array([(Cb @ matmul_n_times(Ab, i) @ Bb) for i in range(L)]).squeeze()\n",
    "\n",
    "#Convolution\n",
    "def causal_convolution(u, K, nofft = False):\n",
    "    if nofft: #不使用FFT\n",
    "        return K[::-1] @ np.transpose(u)\n",
    "    else: #使用FFT\n",
    "        assert K.shape[0] == u.shape[0]\n",
    "        ud = np.fft.rfft(np.pad(u, (0, K.shape[0])))\n",
    "        Kd = np.fft.rfft(np.pad(K, (0, u.shape[0])))\n",
    "        out = ud * Kd\n",
    "        return np.fft.irfft(out)[u.shape[0] - 1]"
   ]
  },
  {
   "cell_type": "code",
   "execution_count": 4,
   "id": "ed9132fe",
   "metadata": {},
   "outputs": [
    {
     "data": {
      "text/plain": [
       "array([0.13734084, 0.16658424, 0.20268662, 0.24721982])"
      ]
     },
     "execution_count": 4,
     "metadata": {},
     "output_type": "execute_result"
    }
   ],
   "source": [
    "# Demo in this stage\n",
    "L = 4\n",
    "step = 1.0 / L\n",
    "A, B, C = Random_SSM(3)\n",
    "Ab, Bb,Cb = discretize(A, B, C, step)\n",
    "Origin_Kernel = K_conv(Ab, Bb, Cb, L)\n",
    "Origin_Kernel"
   ]
  },
  {
   "cell_type": "code",
   "execution_count": 6,
   "id": "9131769c",
   "metadata": {},
   "outputs": [
    {
     "name": "stdout",
     "output_type": "stream",
     "text": [
      "\n",
      "RNN result is : -2.9878612423736817\n",
      "CNN(w\\o FFT) result is :  -2.987861242373681\n",
      "CNN(w\\ FFT) result is :  -2.9878612423736812\n"
     ]
    },
    {
     "data": {
      "text/plain": [
       "True"
      ]
     },
     "execution_count": 6,
     "metadata": {},
     "output_type": "execute_result"
    }
   ],
   "source": [
    "def test_cnn_is_rnn(N = 3, L = 5, step = 1.0/5):\n",
    "\n",
    "    ssm = Random_SSM(N)\n",
    "    u = np.array([-1, -2, -3, -4, -5])\n",
    "\n",
    "    # RNN results\n",
    "    rec = run_SSM(*ssm, u)\n",
    "\n",
    "    # CNN results\n",
    "    ssmb = discretize(*ssm, step=step)\n",
    "    # Get Conv Kernel K\n",
    "    K = K_conv(*ssmb, L)\n",
    "    # Calculate K * u\n",
    "    conv = causal_convolution(u, K, True)\n",
    "    conv2 = causal_convolution(u, K, False)\n",
    "\n",
    "    #Check results\n",
    "    print()\n",
    "    print(\"RNN result is :\", rec.ravel()[0])\n",
    "    print(\"CNN(w\\o FFT) result is : \", conv.ravel()[0])\n",
    "    print(\"CNN(w\\ FFT) result is : \", conv2.ravel()[0])\n",
    "\n",
    "    return (np.abs((rec.ravel()[0] - conv2.ravel()[0])) < 1e6)\n",
    "test_cnn_is_rnn()\n",
    "    \n",
    "    "
   ]
  },
  {
   "cell_type": "code",
   "execution_count": 9,
   "id": "f08f45ea",
   "metadata": {},
   "outputs": [],
   "source": [
    "# Define HiPPO Matrix\n",
    "def make_HiPPO(N):\n",
    "    P = np.sqrt(1 + 2 * np.arange(N))\n",
    "    A = P[:, np.newaxis] * P[np.newaxis, :]\n",
    "    A = np.tril(A) - np.diag(np.arange(N))\n",
    "    return -A"
   ]
  },
  {
   "cell_type": "code",
   "execution_count": null,
   "id": "903a2aaa",
   "metadata": {},
   "outputs": [],
   "source": [
    "# function K*z naive method\n",
    "def K_gen_simple(Ab, Bb, Cb, L):\n",
    "    K = K_conv(Ab, Bb, Cb, L)\n",
    "    \n",
    "    def gen(z):\n",
    "        return np.sum(K * (z ** np.arange(L)))\n",
    "    \n",
    "    return gen\n",
    "\n",
    "#function K*z (generation function method)\n",
    "def K_gen_inversr(Ab, Bb, Cb, L):\n",
    "    I = np.eye(Ab.shape[0])\n",
    "    Ab_L = matmul_n_times(Ab, L)\n",
    "    #C_~ = C_bar * (I - A_bar^L)\n",
    "    Ct = Cb @ (I - Ab_L)\n",
    "    return lambda z:(Ct @ np.linalg.inv(I - Ab * z) @ Bb)\n",
    "\n",
    "def conv_from_gen(gen, L):\n",
    "    \n"
   ]
  }
 ],
 "metadata": {
  "kernelspec": {
   "display_name": "torch",
   "language": "python",
   "name": "python3"
  },
  "language_info": {
   "codemirror_mode": {
    "name": "ipython",
    "version": 3
   },
   "file_extension": ".py",
   "mimetype": "text/x-python",
   "name": "python",
   "nbconvert_exporter": "python",
   "pygments_lexer": "ipython3",
   "version": "3.10.13"
  }
 },
 "nbformat": 4,
 "nbformat_minor": 5
}
